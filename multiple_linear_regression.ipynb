{
 "cells": [
  {
   "cell_type": "markdown",
   "metadata": {
    "colab_type": "text",
    "id": "CazISR8X_HUG"
   },
   "source": [
    "# Multiple Linear Regression"
   ]
  },
  {
   "cell_type": "markdown",
   "metadata": {
    "colab_type": "text",
    "id": "pOyqYHTk_Q57"
   },
   "source": [
    "## Importing the libraries"
   ]
  },
  {
   "cell_type": "code",
   "execution_count": 1,
   "metadata": {
    "colab": {},
    "colab_type": "code",
    "id": "T_YHJjnD_Tja"
   },
   "outputs": [],
   "source": [
    "import numpy as np\n",
    "import pandas as pd"
   ]
  },
  {
   "cell_type": "markdown",
   "metadata": {},
   "source": [
    "Creating the dataset"
   ]
  },
  {
   "cell_type": "markdown",
   "metadata": {},
   "source": [
    "y = b0 +b1*x1 +b2*x2 +b3*x3 +b4*x4\n"
   ]
  },
  {
   "cell_type": "code",
   "execution_count": 15,
   "metadata": {},
   "outputs": [
    {
     "data": {
      "text/html": [
       "<div>\n",
       "<style scoped>\n",
       "    .dataframe tbody tr th:only-of-type {\n",
       "        vertical-align: middle;\n",
       "    }\n",
       "\n",
       "    .dataframe tbody tr th {\n",
       "        vertical-align: top;\n",
       "    }\n",
       "\n",
       "    .dataframe thead th {\n",
       "        text-align: right;\n",
       "    }\n",
       "</style>\n",
       "<table border=\"1\" class=\"dataframe\">\n",
       "  <thead>\n",
       "    <tr style=\"text-align: right;\">\n",
       "      <th></th>\n",
       "      <th>Hours_studied</th>\n",
       "      <th>Hours_slept</th>\n",
       "      <th>iQ</th>\n",
       "    </tr>\n",
       "  </thead>\n",
       "  <tbody>\n",
       "    <tr>\n",
       "      <th>0</th>\n",
       "      <td>2.150246</td>\n",
       "      <td>1.085211</td>\n",
       "      <td>4.299632</td>\n",
       "    </tr>\n",
       "    <tr>\n",
       "      <th>1</th>\n",
       "      <td>4.350124</td>\n",
       "      <td>6.695615</td>\n",
       "      <td>3.935018</td>\n",
       "    </tr>\n",
       "  </tbody>\n",
       "</table>\n",
       "</div>"
      ],
      "text/plain": [
       "   Hours_studied  Hours_slept        iQ\n",
       "0       2.150246     1.085211  4.299632\n",
       "1       4.350124     6.695615  3.935018"
      ]
     },
     "execution_count": 15,
     "metadata": {},
     "output_type": "execute_result"
    }
   ],
   "source": [
    "from numpy.random import rand\n",
    "\n",
    "df  = pd.DataFrame(rand( 50 , 3)*10, columns = 'Hours_studied Hours_slept iQ '.split())\n",
    "df.head(2)"
   ]
  },
  {
   "cell_type": "code",
   "execution_count": 20,
   "metadata": {},
   "outputs": [
    {
     "data": {
      "text/html": [
       "<div>\n",
       "<style scoped>\n",
       "    .dataframe tbody tr th:only-of-type {\n",
       "        vertical-align: middle;\n",
       "    }\n",
       "\n",
       "    .dataframe tbody tr th {\n",
       "        vertical-align: top;\n",
       "    }\n",
       "\n",
       "    .dataframe thead th {\n",
       "        text-align: right;\n",
       "    }\n",
       "</style>\n",
       "<table border=\"1\" class=\"dataframe\">\n",
       "  <thead>\n",
       "    <tr style=\"text-align: right;\">\n",
       "      <th></th>\n",
       "      <th>Hours_studied</th>\n",
       "      <th>Hours_slept</th>\n",
       "      <th>iQ</th>\n",
       "      <th>Location</th>\n",
       "      <th>Marks</th>\n",
       "    </tr>\n",
       "  </thead>\n",
       "  <tbody>\n",
       "    <tr>\n",
       "      <th>0</th>\n",
       "      <td>2.150246</td>\n",
       "      <td>1.085211</td>\n",
       "      <td>4.299632</td>\n",
       "      <td>Bangalore</td>\n",
       "      <td>33.138227</td>\n",
       "    </tr>\n",
       "    <tr>\n",
       "      <th>1</th>\n",
       "      <td>4.350124</td>\n",
       "      <td>6.695615</td>\n",
       "      <td>3.935018</td>\n",
       "      <td>Pune</td>\n",
       "      <td>46.012076</td>\n",
       "    </tr>\n",
       "    <tr>\n",
       "      <th>2</th>\n",
       "      <td>2.202233</td>\n",
       "      <td>9.376619</td>\n",
       "      <td>6.177840</td>\n",
       "      <td>New Delhi</td>\n",
       "      <td>62.791760</td>\n",
       "    </tr>\n",
       "    <tr>\n",
       "      <th>3</th>\n",
       "      <td>8.924395</td>\n",
       "      <td>3.762944</td>\n",
       "      <td>8.378182</td>\n",
       "      <td>New Delhi</td>\n",
       "      <td>63.674497</td>\n",
       "    </tr>\n",
       "    <tr>\n",
       "      <th>4</th>\n",
       "      <td>7.171806</td>\n",
       "      <td>8.664971</td>\n",
       "      <td>9.767834</td>\n",
       "      <td>New Delhi</td>\n",
       "      <td>67.302704</td>\n",
       "    </tr>\n",
       "  </tbody>\n",
       "</table>\n",
       "</div>"
      ],
      "text/plain": [
       "   Hours_studied  Hours_slept        iQ   Location      Marks\n",
       "0       2.150246     1.085211  4.299632  Bangalore  33.138227\n",
       "1       4.350124     6.695615  3.935018       Pune  46.012076\n",
       "2       2.202233     9.376619  6.177840  New Delhi  62.791760\n",
       "3       8.924395     3.762944  8.378182  New Delhi  63.674497\n",
       "4       7.171806     8.664971  9.767834  New Delhi  67.302704"
      ]
     },
     "execution_count": 20,
     "metadata": {},
     "output_type": "execute_result"
    }
   ],
   "source": [
    "from random import choice\n",
    "\n",
    "location = []\n",
    "for i in range(50):\n",
    "    \n",
    "    location.append(choice([\"New Delhi\" , \"Pune\" , \"Bangalore\"]))\n",
    " \n",
    "\n",
    "df['Location'] = location\n",
    "\n",
    "df.head()"
   ]
  },
  {
   "cell_type": "code",
   "execution_count": 21,
   "metadata": {},
   "outputs": [],
   "source": [
    "df['Marks'] = (1.73 + (3.34*df['Hours_studied'])\n",
    "                    + (2.45*df['Hours_slept'])\n",
    "                    + (1.83*df['iQ']  ))\n",
    "df['Marks'] =  df['Marks'] +np.random.rand(50)*20\n",
    "               \n",
    "df.to_csv('Students.csv',index=False)\n"
   ]
  },
  {
   "cell_type": "code",
   "execution_count": 5,
   "metadata": {},
   "outputs": [
    {
     "data": {
      "text/html": [
       "<div>\n",
       "<style scoped>\n",
       "    .dataframe tbody tr th:only-of-type {\n",
       "        vertical-align: middle;\n",
       "    }\n",
       "\n",
       "    .dataframe tbody tr th {\n",
       "        vertical-align: top;\n",
       "    }\n",
       "\n",
       "    .dataframe thead th {\n",
       "        text-align: right;\n",
       "    }\n",
       "</style>\n",
       "<table border=\"1\" class=\"dataframe\">\n",
       "  <thead>\n",
       "    <tr style=\"text-align: right;\">\n",
       "      <th></th>\n",
       "      <th>Hours_studied</th>\n",
       "      <th>Hours_slept</th>\n",
       "      <th>iQ</th>\n",
       "      <th>Location</th>\n",
       "      <th>Marks</th>\n",
       "    </tr>\n",
       "  </thead>\n",
       "  <tbody>\n",
       "    <tr>\n",
       "      <th>0</th>\n",
       "      <td>1.531130</td>\n",
       "      <td>6.241712</td>\n",
       "      <td>3.931965</td>\n",
       "      <td>New Delhi</td>\n",
       "      <td>42.562722</td>\n",
       "    </tr>\n",
       "    <tr>\n",
       "      <th>1</th>\n",
       "      <td>2.250000</td>\n",
       "      <td>4.137144</td>\n",
       "      <td>7.865846</td>\n",
       "      <td>New Delhi</td>\n",
       "      <td>39.819597</td>\n",
       "    </tr>\n",
       "    <tr>\n",
       "      <th>2</th>\n",
       "      <td>8.975945</td>\n",
       "      <td>6.687917</td>\n",
       "      <td>6.340032</td>\n",
       "      <td>Pune</td>\n",
       "      <td>76.628923</td>\n",
       "    </tr>\n",
       "    <tr>\n",
       "      <th>3</th>\n",
       "      <td>2.737767</td>\n",
       "      <td>0.587730</td>\n",
       "      <td>5.588760</td>\n",
       "      <td>Pune</td>\n",
       "      <td>24.200189</td>\n",
       "    </tr>\n",
       "    <tr>\n",
       "      <th>4</th>\n",
       "      <td>1.545774</td>\n",
       "      <td>9.663307</td>\n",
       "      <td>6.022966</td>\n",
       "      <td>New Delhi</td>\n",
       "      <td>43.502877</td>\n",
       "    </tr>\n",
       "  </tbody>\n",
       "</table>\n",
       "</div>"
      ],
      "text/plain": [
       "   Hours_studied  Hours_slept        iQ   Location      Marks\n",
       "0       1.531130     6.241712  3.931965  New Delhi  42.562722\n",
       "1       2.250000     4.137144  7.865846  New Delhi  39.819597\n",
       "2       8.975945     6.687917  6.340032       Pune  76.628923\n",
       "3       2.737767     0.587730  5.588760       Pune  24.200189\n",
       "4       1.545774     9.663307  6.022966  New Delhi  43.502877"
      ]
     },
     "execution_count": 5,
     "metadata": {},
     "output_type": "execute_result"
    }
   ],
   "source": [
    "df.head()"
   ]
  },
  {
   "cell_type": "markdown",
   "metadata": {
    "colab_type": "text",
    "id": "vgC61-ah_WIz"
   },
   "source": [
    "## Importing the dataset"
   ]
  },
  {
   "cell_type": "code",
   "execution_count": 6,
   "metadata": {
    "colab": {},
    "colab_type": "code",
    "id": "UrxyEKGn_ez7"
   },
   "outputs": [
    {
     "name": "stdout",
     "output_type": "stream",
     "text": [
      "[[1.5311302067316257 6.241711913811301 3.931964812111933 'New Delhi']\n",
      " [2.249999933675244 4.137143728992287 7.865845939052463 'New Delhi']\n",
      " [8.975945214020399 6.6879170263383685 6.34003150748363 'Pune']\n",
      " [2.737767117527232 0.5877301705487548 5.5887603184917065 'Pune']\n",
      " [1.5457735074678602 9.663306573360424 6.0229659706315175 'New Delhi']\n",
      " [9.858185667857837 7.4621136602056835 8.593341800567378 'Bangalore']\n",
      " [1.4064417142166021 5.768703253893004 8.640356830607901 'Bangalore']\n",
      " [6.026151738825075 9.839185321329328 9.322696008154935 'Pune']\n",
      " [4.129832017588519 5.719987475780168 0.5542090498878971 'Pune']\n",
      " [4.613819288805357 5.5954229854761515 7.4347758749962045 'New Delhi']\n",
      " [2.4477581247792832 6.273161197873742 4.4261924331628215 'Pune']\n",
      " [3.772584903659317 2.1282593810187334 8.25724977262119 'Pune']\n",
      " [3.1398337275981096 2.143893424268314 5.609470303933233 'Pune']\n",
      " [8.371757533615838 0.35365966793199705 6.956055649814714 'Pune']\n",
      " [4.314263053719592 4.007815368230789 0.648716669311532 'Bangalore']\n",
      " [5.244461646506692 5.747477938267141 1.1783419946580165 'Pune']\n",
      " [1.301907154476759 1.4343776617382376 6.077336213406007 'Pune']\n",
      " [1.6713946493244891 6.019670030620397 9.229046820581068 'New Delhi']\n",
      " [9.757205127262868 3.0930402790484317 7.36835531697877 'Bangalore']\n",
      " [8.3975333986316 4.3619563099031495 1.540384570812251 'Pune']\n",
      " [3.699596904773868 7.612787663369085 9.539703799921279 'Pune']\n",
      " [8.243253330460622 9.853825942976478 2.507431100851484 'New Delhi']\n",
      " [9.9779037857593 8.270984297049853 8.343368071107403 'New Delhi']\n",
      " [6.47360626329866 0.06618531060885613 6.247401608819697 'Bangalore']\n",
      " [5.688038964069053 9.310448596104811 2.7042284402822263 'New Delhi']\n",
      " [5.802577556034057 9.90454609644044 7.0579683875690575 'Bangalore']\n",
      " [8.841139409572962 4.535675356338827 4.6313835307589715 'Bangalore']\n",
      " [7.2644087178825965 6.048740557822673 9.91994145127743 'New Delhi']\n",
      " [7.750332106298837 9.205067163486913 3.8876642457151753 'New Delhi']\n",
      " [6.7514558725614915 0.9406366302353321 3.432284323228824 'Bangalore']\n",
      " [6.757374465144977 0.5259427222977642 1.380622605309524 'Bangalore']\n",
      " [9.653275866377976 9.950926558664502 8.376215299032674 'Pune']\n",
      " [0.7789341679312811 4.319761633126609 1.0376385278499267 'Pune']\n",
      " [3.1001687771301256 8.417797462281593 4.865508674093928 'Pune']\n",
      " [8.642266460897883 6.653699784918414 4.201546827999549 'Pune']\n",
      " [4.949041509881412 5.132259991177469 0.31373491057246183 'Bangalore']\n",
      " [0.11788871802666635 7.680188607803632 1.9243152507844807 'New Delhi']\n",
      " [6.444775371586993 9.401610911612947 8.620688784364013 'Bangalore']\n",
      " [8.59082084721636 3.0019520237445807 4.297551058256643 'New Delhi']\n",
      " [8.265662252600944 7.599813597063079 9.739758674844968 'New Delhi']\n",
      " [5.8064963963303065 6.7564588444425535 5.350087869556348 'New Delhi']\n",
      " [2.8829465608407245 3.2567266231353016 1.315787415986941 'Pune']\n",
      " [7.326793808732813 4.804565185925432 4.194188277630514 'New Delhi']\n",
      " [0.4622376651614624 3.1932794036213337 6.407466381871451 'Pune']\n",
      " [6.390044554327186 8.408974043324923 1.1513258013762784 'New Delhi']\n",
      " [3.8106912867045115 8.367816633384113 2.96870463757976 'New Delhi']\n",
      " [4.704120290392009 1.948105850353352 9.641868631918284 'Pune']\n",
      " [0.6224639199381621 5.898095087122573 3.1443882876072182 'New Delhi']\n",
      " [6.652674304727968 6.8166911614531465 4.746730201130677 'Pune']\n",
      " [9.471950745964833 0.5414294036679923 0.3763666755936101 'New Delhi']]\n"
     ]
    }
   ],
   "source": [
    "dataset = pd.read_csv('Students.csv')\n",
    "\n",
    "X = dataset.iloc[:, :-1].values\n",
    "y = dataset.iloc[:, -1].values\n",
    "print(X)"
   ]
  },
  {
   "cell_type": "code",
   "execution_count": 7,
   "metadata": {
    "colab": {
     "base_uri": "https://localhost:8080/",
     "height": 857
    },
    "colab_type": "code",
    "executionInfo": {
     "elapsed": 552,
     "status": "ok",
     "timestamp": 1586353652778,
     "user": {
      "displayName": "Hadelin de Ponteves",
      "photoUrl": "https://lh3.googleusercontent.com/a-/AOh14GhEuXdT7eQweUmRPW8_laJuPggSK6hfvpl5a6WBaA=s64",
      "userId": "15047218817161520419"
     },
     "user_tz": -240
    },
    "id": "GOB3QhV9B5kD",
    "outputId": "4a05377a-2db2-43fc-b824-a0710448baee",
    "scrolled": false
   },
   "outputs": [
    {
     "name": "stdout",
     "output_type": "stream",
     "text": [
      "[42.56272156 39.81959744 76.62892334 24.20018891 43.50287653 77.49682235\n",
      " 47.41245951 75.12543446 31.38393297 48.9962183  41.35727885 48.38487428\n",
      " 31.38567722 57.56253826 30.62473985 49.10053338 39.75441488 47.47045228\n",
      " 68.32959366 55.19647411 60.04487393 64.91666484 81.16512187 42.74377348\n",
      " 61.09738103 68.69867938 61.76989475 63.61656585 75.1575283  45.93764135\n",
      " 32.61866249 74.67407047 21.68487123 48.87107275 68.43220122 48.80290464\n",
      " 27.67796223 75.56719018 48.65433321 72.2213334  58.2333018  22.44224038\n",
      " 47.09481056 38.65209356 54.93118272 51.95079458 54.50216967 41.08547359\n",
      " 61.27893515 51.58690049]\n"
     ]
    }
   ],
   "source": [
    "print(y)"
   ]
  },
  {
   "cell_type": "markdown",
   "metadata": {
    "colab_type": "text",
    "id": "VadrvE7s_lS9"
   },
   "source": [
    "## Encoding categorical data"
   ]
  },
  {
   "cell_type": "code",
   "execution_count": 8,
   "metadata": {
    "colab": {},
    "colab_type": "code",
    "id": "wV3fD1mbAvsh"
   },
   "outputs": [
    {
     "name": "stdout",
     "output_type": "stream",
     "text": [
      "ColumnTransformer(remainder='passthrough',\n",
      "                  transformers=[('encoder', OneHotEncoder(), [3])])\n"
     ]
    }
   ],
   "source": [
    "from sklearn.compose import ColumnTransformer\n",
    "from sklearn.preprocessing import OneHotEncoder\n",
    "ct = ColumnTransformer(transformers=[('encoder', OneHotEncoder(), [3])],  remainder='passthrough')\n",
    "print(ct)\n",
    "\n",
    "X = np.array(ct.fit_transform(X))"
   ]
  },
  {
   "cell_type": "code",
   "execution_count": 9,
   "metadata": {
    "colab": {
     "base_uri": "https://localhost:8080/",
     "height": 857
    },
    "colab_type": "code",
    "executionInfo": {
     "elapsed": 616,
     "status": "ok",
     "timestamp": 1586353657759,
     "user": {
      "displayName": "Hadelin de Ponteves",
      "photoUrl": "https://lh3.googleusercontent.com/a-/AOh14GhEuXdT7eQweUmRPW8_laJuPggSK6hfvpl5a6WBaA=s64",
      "userId": "15047218817161520419"
     },
     "user_tz": -240
    },
    "id": "4ym3HdYeCGYG",
    "outputId": "ce09e670-cf06-4a1c-f5b0-89422aae0496"
   },
   "outputs": [
    {
     "name": "stdout",
     "output_type": "stream",
     "text": [
      "[[0.0 1.0 0.0 1.5311302067316257 6.241711913811301 3.931964812111933]\n",
      " [0.0 1.0 0.0 2.249999933675244 4.137143728992287 7.865845939052463]\n",
      " [0.0 0.0 1.0 8.975945214020399 6.6879170263383685 6.34003150748363]\n",
      " [0.0 0.0 1.0 2.737767117527232 0.5877301705487548 5.5887603184917065]\n",
      " [0.0 1.0 0.0 1.5457735074678602 9.663306573360424 6.0229659706315175]\n",
      " [1.0 0.0 0.0 9.858185667857837 7.4621136602056835 8.593341800567378]\n",
      " [1.0 0.0 0.0 1.4064417142166021 5.768703253893004 8.640356830607901]\n",
      " [0.0 0.0 1.0 6.026151738825075 9.839185321329328 9.322696008154935]\n",
      " [0.0 0.0 1.0 4.129832017588519 5.719987475780168 0.5542090498878971]\n",
      " [0.0 1.0 0.0 4.613819288805357 5.5954229854761515 7.4347758749962045]\n",
      " [0.0 0.0 1.0 2.4477581247792832 6.273161197873742 4.4261924331628215]\n",
      " [0.0 0.0 1.0 3.772584903659317 2.1282593810187334 8.25724977262119]\n",
      " [0.0 0.0 1.0 3.1398337275981096 2.143893424268314 5.609470303933233]\n",
      " [0.0 0.0 1.0 8.371757533615838 0.35365966793199705 6.956055649814714]\n",
      " [1.0 0.0 0.0 4.314263053719592 4.007815368230789 0.648716669311532]\n",
      " [0.0 0.0 1.0 5.244461646506692 5.747477938267141 1.1783419946580165]\n",
      " [0.0 0.0 1.0 1.301907154476759 1.4343776617382376 6.077336213406007]\n",
      " [0.0 1.0 0.0 1.6713946493244891 6.019670030620397 9.229046820581068]\n",
      " [1.0 0.0 0.0 9.757205127262868 3.0930402790484317 7.36835531697877]\n",
      " [0.0 0.0 1.0 8.3975333986316 4.3619563099031495 1.540384570812251]\n",
      " [0.0 0.0 1.0 3.699596904773868 7.612787663369085 9.539703799921279]\n",
      " [0.0 1.0 0.0 8.243253330460622 9.853825942976478 2.507431100851484]\n",
      " [0.0 1.0 0.0 9.9779037857593 8.270984297049853 8.343368071107403]\n",
      " [1.0 0.0 0.0 6.47360626329866 0.06618531060885613 6.247401608819697]\n",
      " [0.0 1.0 0.0 5.688038964069053 9.310448596104811 2.7042284402822263]\n",
      " [1.0 0.0 0.0 5.802577556034057 9.90454609644044 7.0579683875690575]\n",
      " [1.0 0.0 0.0 8.841139409572962 4.535675356338827 4.6313835307589715]\n",
      " [0.0 1.0 0.0 7.2644087178825965 6.048740557822673 9.91994145127743]\n",
      " [0.0 1.0 0.0 7.750332106298837 9.205067163486913 3.8876642457151753]\n",
      " [1.0 0.0 0.0 6.7514558725614915 0.9406366302353321 3.432284323228824]\n",
      " [1.0 0.0 0.0 6.757374465144977 0.5259427222977642 1.380622605309524]\n",
      " [0.0 0.0 1.0 9.653275866377976 9.950926558664502 8.376215299032674]\n",
      " [0.0 0.0 1.0 0.7789341679312811 4.319761633126609 1.0376385278499267]\n",
      " [0.0 0.0 1.0 3.1001687771301256 8.417797462281593 4.865508674093928]\n",
      " [0.0 0.0 1.0 8.642266460897883 6.653699784918414 4.201546827999549]\n",
      " [1.0 0.0 0.0 4.949041509881412 5.132259991177469 0.31373491057246183]\n",
      " [0.0 1.0 0.0 0.11788871802666635 7.680188607803632 1.9243152507844807]\n",
      " [1.0 0.0 0.0 6.444775371586993 9.401610911612947 8.620688784364013]\n",
      " [0.0 1.0 0.0 8.59082084721636 3.0019520237445807 4.297551058256643]\n",
      " [0.0 1.0 0.0 8.265662252600944 7.599813597063079 9.739758674844968]\n",
      " [0.0 1.0 0.0 5.8064963963303065 6.7564588444425535 5.350087869556348]\n",
      " [0.0 0.0 1.0 2.8829465608407245 3.2567266231353016 1.315787415986941]\n",
      " [0.0 1.0 0.0 7.326793808732813 4.804565185925432 4.194188277630514]\n",
      " [0.0 0.0 1.0 0.4622376651614624 3.1932794036213337 6.407466381871451]\n",
      " [0.0 1.0 0.0 6.390044554327186 8.408974043324923 1.1513258013762784]\n",
      " [0.0 1.0 0.0 3.8106912867045115 8.367816633384113 2.96870463757976]\n",
      " [0.0 0.0 1.0 4.704120290392009 1.948105850353352 9.641868631918284]\n",
      " [0.0 1.0 0.0 0.6224639199381621 5.898095087122573 3.1443882876072182]\n",
      " [0.0 0.0 1.0 6.652674304727968 6.8166911614531465 4.746730201130677]\n",
      " [0.0 1.0 0.0 9.471950745964833 0.5414294036679923 0.3763666755936101]]\n"
     ]
    }
   ],
   "source": [
    "print(X)\n",
    "\n",
    "\n",
    "\n",
    "\n"
   ]
  },
  {
   "cell_type": "markdown",
   "metadata": {
    "colab_type": "text",
    "id": "WemVnqgeA70k"
   },
   "source": [
    "## Splitting the dataset into the Training set and Test set"
   ]
  },
  {
   "cell_type": "code",
   "execution_count": 10,
   "metadata": {
    "colab": {},
    "colab_type": "code",
    "id": "Kb_v_ae-A-20"
   },
   "outputs": [
    {
     "data": {
      "text/plain": [
       "array([75.1575283 , 48.38487428, 41.35727885, 22.44224038, 76.62892334,\n",
       "       63.61656585, 48.65433321, 74.67407047, 81.16512187, 43.50287653])"
      ]
     },
     "execution_count": 10,
     "metadata": {},
     "output_type": "execute_result"
    }
   ],
   "source": [
    "from sklearn.model_selection import train_test_split\n",
    "X_train, X_test, y_train , y_test = train_test_split(X, y, test_size = 0.2, random_state = 0)\n",
    "y_test"
   ]
  },
  {
   "cell_type": "markdown",
   "metadata": {
    "colab_type": "text",
    "id": "k-McZVsQBINc"
   },
   "source": [
    "## Training the Multiple Linear Regression model on the Training set"
   ]
  },
  {
   "cell_type": "code",
   "execution_count": 11,
   "metadata": {
    "colab": {
     "base_uri": "https://localhost:8080/",
     "height": 34
    },
    "colab_type": "code",
    "executionInfo": {
     "elapsed": 757,
     "status": "ok",
     "timestamp": 1586353664008,
     "user": {
      "displayName": "Hadelin de Ponteves",
      "photoUrl": "https://lh3.googleusercontent.com/a-/AOh14GhEuXdT7eQweUmRPW8_laJuPggSK6hfvpl5a6WBaA=s64",
      "userId": "15047218817161520419"
     },
     "user_tz": -240
    },
    "id": "ywPjx0L1BMiD",
    "outputId": "099836bc-4d85-4b4f-a488-093faf02e8cb"
   },
   "outputs": [
    {
     "data": {
      "text/plain": [
       "LinearRegression()"
      ]
     },
     "execution_count": 11,
     "metadata": {},
     "output_type": "execute_result"
    }
   ],
   "source": [
    "from sklearn.linear_model import LinearRegression\n",
    "regressor = LinearRegression()\n",
    "regressor.fit(X_train, y_train)"
   ]
  },
  {
   "cell_type": "markdown",
   "metadata": {
    "colab_type": "text",
    "id": "xNkXL1YQBiBT"
   },
   "source": [
    "## Predicting the Test set results"
   ]
  },
  {
   "cell_type": "code",
   "execution_count": 12,
   "metadata": {
    "colab": {
     "base_uri": "https://localhost:8080/",
     "height": 185
    },
    "colab_type": "code",
    "executionInfo": {
     "elapsed": 951,
     "status": "ok",
     "timestamp": 1586353666678,
     "user": {
      "displayName": "Hadelin de Ponteves",
      "photoUrl": "https://lh3.googleusercontent.com/a-/AOh14GhEuXdT7eQweUmRPW8_laJuPggSK6hfvpl5a6WBaA=s64",
      "userId": "15047218817161520419"
     },
     "user_tz": -240
    },
    "id": "TQKmwvtdBkyb",
    "outputId": "493436bf-a4ae-4374-ca16-0b0c25d19457",
    "scrolled": true
   },
   "outputs": [
    {
     "name": "stdout",
     "output_type": "stream",
     "text": [
      "\n",
      "\n",
      "\n",
      "Predicted  Actual\n",
      "[[66.79 75.16]\n",
      " [45.28 48.38]\n",
      " [43.32 41.36]\n",
      " [31.42 22.44]\n",
      " [70.86 76.63]\n",
      " [69.12 63.62]\n",
      " [55.37 48.65]\n",
      " [85.16 74.67]\n",
      " [80.96 81.17]\n",
      " [50.38 43.5 ]]\n"
     ]
    }
   ],
   "source": [
    "y_pred = regressor.predict(X_test)\n",
    "\n",
    "np.set_printoptions(precision=2)\n",
    "print(\"\\n\\n\\nPredicted  Actual\")\n",
    "print(np.concatenate((y_pred.reshape(len(y_pred),1), y_test.reshape(len(y_test),1)),1))"
   ]
  },
  {
   "cell_type": "code",
   "execution_count": null,
   "metadata": {},
   "outputs": [],
   "source": [
    "\n",
    "np.set_printoptions(precision=2)\n",
    "print(np.concatenate((X_test ,y_pred.reshape(len(y_pred),1) ,y_test.reshape(len(y_test),1)) ,1))"
   ]
  },
  {
   "cell_type": "code",
   "execution_count": null,
   "metadata": {},
   "outputs": [],
   "source": [
    "len(y_pred)"
   ]
  },
  {
   "cell_type": "code",
   "execution_count": null,
   "metadata": {},
   "outputs": [],
   "source": [
    "y_test"
   ]
  },
  {
   "cell_type": "code",
   "execution_count": null,
   "metadata": {},
   "outputs": [],
   "source": [
    "y_pred"
   ]
  },
  {
   "cell_type": "code",
   "execution_count": null,
   "metadata": {},
   "outputs": [],
   "source": []
  },
  {
   "cell_type": "code",
   "execution_count": null,
   "metadata": {},
   "outputs": [],
   "source": [
    "\n",
    "\n"
   ]
  },
  {
   "cell_type": "code",
   "execution_count": null,
   "metadata": {},
   "outputs": [],
   "source": []
  },
  {
   "cell_type": "code",
   "execution_count": null,
   "metadata": {},
   "outputs": [],
   "source": []
  },
  {
   "cell_type": "code",
   "execution_count": null,
   "metadata": {},
   "outputs": [],
   "source": []
  },
  {
   "cell_type": "code",
   "execution_count": null,
   "metadata": {},
   "outputs": [],
   "source": []
  },
  {
   "cell_type": "code",
   "execution_count": null,
   "metadata": {},
   "outputs": [],
   "source": [
    "\n",
    "\n"
   ]
  },
  {
   "cell_type": "code",
   "execution_count": null,
   "metadata": {},
   "outputs": [],
   "source": []
  },
  {
   "cell_type": "code",
   "execution_count": null,
   "metadata": {},
   "outputs": [],
   "source": []
  },
  {
   "cell_type": "code",
   "execution_count": null,
   "metadata": {},
   "outputs": [],
   "source": []
  },
  {
   "cell_type": "code",
   "execution_count": null,
   "metadata": {},
   "outputs": [],
   "source": []
  },
  {
   "cell_type": "code",
   "execution_count": null,
   "metadata": {},
   "outputs": [],
   "source": []
  },
  {
   "cell_type": "code",
   "execution_count": null,
   "metadata": {},
   "outputs": [],
   "source": []
  },
  {
   "cell_type": "code",
   "execution_count": null,
   "metadata": {},
   "outputs": [],
   "source": []
  },
  {
   "cell_type": "code",
   "execution_count": null,
   "metadata": {},
   "outputs": [],
   "source": []
  },
  {
   "cell_type": "code",
   "execution_count": null,
   "metadata": {},
   "outputs": [],
   "source": []
  },
  {
   "cell_type": "code",
   "execution_count": null,
   "metadata": {},
   "outputs": [],
   "source": []
  },
  {
   "cell_type": "code",
   "execution_count": null,
   "metadata": {},
   "outputs": [],
   "source": [
    "\n"
   ]
  },
  {
   "cell_type": "code",
   "execution_count": null,
   "metadata": {},
   "outputs": [],
   "source": []
  },
  {
   "cell_type": "code",
   "execution_count": null,
   "metadata": {},
   "outputs": [],
   "source": [
    "help(np.random.rand)*10"
   ]
  },
  {
   "cell_type": "code",
   "execution_count": null,
   "metadata": {},
   "outputs": [],
   "source": []
  },
  {
   "cell_type": "code",
   "execution_count": null,
   "metadata": {},
   "outputs": [],
   "source": []
  },
  {
   "cell_type": "code",
   "execution_count": null,
   "metadata": {},
   "outputs": [],
   "source": []
  }
 ],
 "metadata": {
  "colab": {
   "authorship_tag": "ABX9TyPhYhte6t7H4wEK4xPpDWT7",
   "name": "Multiple Linear Regression",
   "provenance": [],
   "toc_visible": true
  },
  "kernelspec": {
   "display_name": "Python 3",
   "language": "python",
   "name": "python3"
  },
  "language_info": {
   "codemirror_mode": {
    "name": "ipython",
    "version": 3
   },
   "file_extension": ".py",
   "mimetype": "text/x-python",
   "name": "python",
   "nbconvert_exporter": "python",
   "pygments_lexer": "ipython3",
   "version": "3.8.5"
  }
 },
 "nbformat": 4,
 "nbformat_minor": 1
}
